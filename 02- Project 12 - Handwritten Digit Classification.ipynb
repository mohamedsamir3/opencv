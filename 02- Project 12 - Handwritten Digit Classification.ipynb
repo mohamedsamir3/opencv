{
 "cells": [
  {
   "cell_type": "markdown",
   "metadata": {},
   "source": [
    "# Classification using KNN (K-Nearest Neighbour)"
   ]
  },
  {
   "cell_type": "code",
   "execution_count": 2,
   "metadata": {},
   "outputs": [
    {
     "data": {
      "image/png": "[encoded data removed]",
      "text/plain": [
       "<Figure size 1080x216 with 10 Axes>"
      ]
     },
     "metadata": {},
     "output_type": "display_data"
    },
    {
     "name": "stdout",
     "output_type": "stream",
     "text": [
      "Model Accuracy: 99.25925925925925 %\n"
     ]
    },
    {
     "data": {
      "image/png": "[encoded data removed]",
      "text/plain": [
       "<Figure size 432x288 with 1 Axes>"
      ]
     },
     "metadata": {},
     "output_type": "display_data"
    },
    {
     "name": "stdout",
     "output_type": "stream",
     "text": [
      "Model Predicted Digit is: 5\n",
      "Real Digit is: 5\n"
     ]
    }
   ],
   "source": [
    "import numpy as np\n",
    "import matplotlib.pyplot as plt\n",
    "from sklearn.neighbors import KNeighborsClassifier\n",
    "from sklearn.datasets import load_digits\n",
    "from sklearn.model_selection import train_test_split\n",
    "from sklearn.metrics import accuracy_score\n",
    "\n",
    "data = load_digits()\n",
    "\n",
    "X = data.data\n",
    "Y = data.target\n",
    "\n",
    "plt.figure(figsize=(15, 3))\n",
    "for label, image in enumerate(data.images[:10]):\n",
    "    ax = plt.subplot(2, 10, label+1)\n",
    "    plt.imshow(image, cmap='gray')\n",
    "    plt.title(str(label))\n",
    "    ax.get_xaxis().set_visible(False)\n",
    "    ax.get_yaxis().set_visible(False)\n",
    "plt.show()\n",
    "\n",
    "\n",
    "x_train, x_test, y_train, y_test = train_test_split(data.data, data.target, test_size=0.3, random_state=42)\n",
    "\n",
    "\n",
    "model = KNeighborsClassifier()\n",
    "\n",
    "model.fit(x_train, y_train)\n",
    "\n",
    "y_pred = model.predict(x_test)\n",
    "\n",
    "accuracy = accuracy_score(y_test, y_pred) * 100\n",
    "print('Model Accuracy: ' + str(accuracy) + ' %')\n",
    "\n",
    "\n",
    "def predict_image_at_index(image_index):\n",
    "    plt.imshow(x_test[image_index].reshape(8, 8), cmap='gray')\n",
    "    plt.title(str('Testing'))\n",
    "    plt.show()\n",
    "    \n",
    "    prediction = model.predict([x_test[image_index]])[0]\n",
    "    real_value = y_test[image_index]\n",
    "    \n",
    "    print('Model Predicted Digit is: ' + str(prediction))\n",
    "    print('Real Digit is: ' + str(real_value))\n",
    "\n",
    "    \n",
    "    \n",
    "predict_image_at_index(150)\n"
   ]
  },
  {
   "cell_type": "markdown",
   "metadata": {},
   "source": [
    "# Classification using SVM (Support Vector Machines)"
   ]
  },
  {
   "cell_type": "code",
   "execution_count": 2,
   "metadata": {},
   "outputs": [
    {
     "data": {
      "image/png": "[encoded data removed]",
      "text/plain": [
       "<Figure size 1080x216 with 10 Axes>"
      ]
     },
     "metadata": {},
     "output_type": "display_data"
    },
    {
     "name": "stdout",
     "output_type": "stream",
     "text": [
      "Model Accuracy: 98.70370370370371 %\n"
     ]
    },
    {
     "data": {
      "image/png": "[encoded data removed]",
      "text/plain": [
       "<Figure size 432x288 with 1 Axes>"
      ]
     },
     "metadata": {},
     "output_type": "display_data"
    },
    {
     "name": "stdout",
     "output_type": "stream",
     "text": [
      "Model Predicted Digit is: 5\n",
      "Real Digit is: 5\n"
     ]
    }
   ],
   "source": [
    "import numpy as np\n",
    "import matplotlib.pyplot as plt\n",
    "from sklearn.svm import SVC\n",
    "from sklearn.datasets import load_digits\n",
    "from sklearn.model_selection import train_test_split\n",
    "from sklearn.metrics import accuracy_score\n",
    "\n",
    "data = load_digits()\n",
    "\n",
    "X = data.data\n",
    "Y = data.target\n",
    "\n",
    "plt.figure(figsize=(15, 3))\n",
    "for label, image in enumerate(data.images[:10]):\n",
    "    ax = plt.subplot(2, 10, label+1)\n",
    "    plt.imshow(image, cmap='gray')\n",
    "    plt.title(str(label))\n",
    "    ax.get_xaxis().set_visible(False)\n",
    "    ax.get_yaxis().set_visible(False)\n",
    "plt.show()\n",
    "\n",
    "\n",
    "x_train, x_test, y_train, y_test = train_test_split(data.data, data.target, test_size=0.3, random_state=42)\n",
    "\n",
    "\n",
    "model = SVC(gamma=0.0001, C=100)\n",
    "\n",
    "model.fit(x_train, y_train)\n",
    "\n",
    "y_pred = model.predict(x_test)\n",
    "\n",
    "accuracy = accuracy_score(y_test, y_pred) * 100\n",
    "print('Model Accuracy: ' + str(accuracy) + ' %')\n",
    "\n",
    "\n",
    "def predict_image_at_index(image_index):\n",
    "    plt.imshow(x_test[image_index].reshape(8, 8), cmap='gray')\n",
    "    plt.show()\n",
    "    \n",
    "    prediction = model.predict([x_test[image_index]])[0]\n",
    "    real_value = y_test[image_index]\n",
    "    \n",
    "    print('Model Predicted Digit is: ' + str(prediction))\n",
    "    print('Real Digit is: ' + str(real_value))\n",
    "\n",
    "    \n",
    "    \n",
    "predict_image_at_index(150)\n"
   ]
  },
  {
   "cell_type": "markdown",
   "metadata": {},
   "source": [
    "# Use Tesserect"
   ]
  },
  {
   "cell_type": "code",
   "execution_count": 3,
   "metadata": {},
   "outputs": [
    {
     "name": "stdout",
     "output_type": "stream",
     "text": [
      "012354\n",
      "56739\n"
     ]
    }
   ],
   "source": [
    "import pytesseract\n",
    "import cv2\n",
    "\n",
    "pytesseract.pytesseract.tesseract_cmd = r'C:\\Program Files\\Tesseract-OCR\\tesseract'\n",
    "\n",
    "\n",
    "img = cv2.imread('../Data/Images/number-2.jpg')\n",
    "print(pytesseract.image_to_string(img))"
   ]
  },
  {
   "cell_type": "code",
   "execution_count": null,
   "metadata": {},
   "outputs": [],
   "source": []
  },
  {
   "cell_type": "code",
   "execution_count": null,
   "metadata": {},
   "outputs": [],
   "source": []
  }
 ],
 "metadata": {
  "kernelspec": {
   "display_name": "Python 3",
   "language": "python",
   "name": "python3"
  },
  "language_info": {
   "codemirror_mode": {
    "name": "ipython",
    "version": 3
   },
   "file_extension": ".py",
   "mimetype": "text/x-python",
   "name": "python",
   "nbconvert_exporter": "python",
   "pygments_lexer": "ipython3",
   "version": "3.6.5"
  }
 },
 "nbformat": 4,
 "nbformat_minor": 2
}
